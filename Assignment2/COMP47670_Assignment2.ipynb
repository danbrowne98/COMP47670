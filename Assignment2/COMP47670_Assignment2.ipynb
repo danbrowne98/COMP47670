{
 "cells": [
  {
   "cell_type": "markdown",
   "id": "95cbae41",
   "metadata": {},
   "source": [
    "# COMP47670 Assignment 2"
   ]
  },
  {
   "cell_type": "code",
   "execution_count": 1,
   "id": "fb5dfa8f",
   "metadata": {},
   "outputs": [],
   "source": [
    "import pandas as pd\n",
    "import bs4\n",
    "import urllib.request as req\n",
    "from sklearn.ensemble import RandomForestClassifier\n",
    "from sklearn.neighbors import KNeighborsClassifier\n",
    "from sklearn.naive_bayes import MultinomialNB\n",
    "from sklearn.model_selection import train_test_split, RandomizedSearchCV\n",
    "from sklearn.feature_extraction.text import CountVectorizer, TfidfVectorizer\n",
    "from sklearn.metrics import accuracy_score, confusion_matrix, ConfusionMatrixDisplay, classification_report\n",
    "from nltk.stem import WordNetLemmatizer\n",
    "from nltk.stem.porter import PorterStemmer\n",
    "from sklearn.pipeline import Pipeline\n",
    "import matplotlib.pyplot as plt"
   ]
  },
  {
   "cell_type": "markdown",
   "id": "45f519a8",
   "metadata": {},
   "source": [
    "## Task 1: Gathering the Data"
   ]
  },
  {
   "cell_type": "markdown",
   "id": "f4cbddd5",
   "metadata": {},
   "source": [
    "The first step in this process is to gather the appropriate data. All the data used in this assignment was gathered from the following URL: http://mlg.ucd.ie/modules/COMP41680/assignment2/index.html.\n",
    "<br><br>\n",
    "This URL consists of the titles of thousands of news articles along with the categories each article belongs in and a breif snippet taken from the article. Below is a script designed to gather all this data and store it in a pandas dataframe format."
   ]
  },
  {
   "cell_type": "code",
   "execution_count": 2,
   "id": "4909783f",
   "metadata": {},
   "outputs": [],
   "source": [
    "def gatherData(createCSV=False):\n",
    "    months = ['jan', 'feb', 'mar', 'apr', 'may', 'jun', 'jul', 'aug', 'sep', 'oct', 'nov', 'dec']\n",
    "    titles = []\n",
    "    categories = []\n",
    "    snippets = []\n",
    "    \n",
    "    for month in months:\n",
    "        initial_link = f'http://mlg.ucd.ie/modules/COMP41680/assignment2/month-{month}-001.html'\n",
    "        initial_response = req.urlopen(initial_link)\n",
    "        initial_html = initial_response.read().decode()\n",
    "        initial_soup = bs4.BeautifulSoup(initial_html, 'html.parser')\n",
    "        numberOfPages = int(initial_soup.find_all('h4')[0].get_text().split('of ')[1])\n",
    "        \n",
    "        i = 1\n",
    "        while i <= numberOfPages:\n",
    "            if i <= 9:\n",
    "                link = f'http://mlg.ucd.ie/modules/COMP41680/assignment2/month-{month}-00{str(i)}.html'\n",
    "            \n",
    "            elif i > 9:\n",
    "                link = f'http://mlg.ucd.ie/modules/COMP41680/assignment2/month-{month}-0{str(i)}.html'\n",
    "            \n",
    "            response = req.urlopen(link)\n",
    "            html = response.read().decode()\n",
    "            soup = bs4.BeautifulSoup(html, 'html.parser')\n",
    "        \n",
    "            for title in soup.find_all('h5'):\n",
    "                titles.append(title.get_text().split('\\xa0')[1])\n",
    "        \n",
    "            for line in soup.find_all('p', {\"class\": \"metadata\"}):\n",
    "                if line.get_text().split(' ')[0] == 'Category:':\n",
    "                    categories.append(line.get_text().split(' ')[1])\n",
    "        \n",
    "            for line in soup.find_all('p', {\"class\": \"snippet\"}):\n",
    "                snippets.append(line.get_text())\n",
    "    \n",
    "            i = i + 1\n",
    "        \n",
    "    assert (len(titles) == len(categories)) and (len(titles) == len(snippets))\n",
    "    \n",
    "    df = pd.DataFrame({'Title': titles, 'Category': categories, 'Snippet': snippets})\n",
    "    \n",
    "    if createCSV:\n",
    "        df.to_csv('CSV_file.csv')\n",
    "    \n",
    "    return df"
   ]
  },
  {
   "cell_type": "code",
   "execution_count": 3,
   "id": "ef2af42b",
   "metadata": {},
   "outputs": [],
   "source": [
    "try:\n",
    "    df = pd.read_csv('CSV_file.csv')\n",
    "\n",
    "except:\n",
    "    df = gatherData(createCSV=True)"
   ]
  },
  {
   "cell_type": "markdown",
   "id": "9932a2e8",
   "metadata": {},
   "source": [
    "Now that we have the full data set, we must isolate the categories we want to analyse. For the purposes of this assignment these categories are 'Sport', 'Film' and 'Music'. The following script filters out the unwanted categories from our data set."
   ]
  },
  {
   "cell_type": "code",
   "execution_count": 4,
   "id": "2599a662",
   "metadata": {},
   "outputs": [],
   "source": [
    "myChoices = ['Sport', 'Film', 'Music']"
   ]
  },
  {
   "cell_type": "code",
   "execution_count": 5,
   "id": "f7d19d6b",
   "metadata": {},
   "outputs": [],
   "source": [
    "def filterData(data, categories):\n",
    "    df = data.copy()\n",
    "    \n",
    "    df = df.loc[df['Category'].isin(myChoices)].reset_index()\n",
    "    \n",
    "    return df[['Title', 'Snippet', 'Category']]"
   ]
  },
  {
   "cell_type": "code",
   "execution_count": 6,
   "id": "d3e6afd1",
   "metadata": {},
   "outputs": [],
   "source": [
    "filtered_df = filterData(df, myChoices)"
   ]
  },
  {
   "cell_type": "markdown",
   "id": "293d5c97",
   "metadata": {},
   "source": [
    "## Task 2: Binary Text Classification"
   ]
  },
  {
   "cell_type": "markdown",
   "id": "f171f78f",
   "metadata": {},
   "source": [
    "The aim of this assignment is to use machine learning agents to make predictions and classify the categories which a number of news articles belong in based on the title and snippet associated with these articles. To complete such a task, we are first required to apply a number of pre-processing steps to our data. This includes the collection of our binary data for this binary text classification task, the lemmatisation and stemming of our input data, and the splitting of our data set into training data and testing data. The following code applies a number of preprocessing steps to our data."
   ]
  },
  {
   "cell_type": "code",
   "execution_count": 7,
   "id": "5585fa14",
   "metadata": {},
   "outputs": [],
   "source": [
    "def mergeTitleSnippet(categories, data=filtered_df):\n",
    "    df = data.copy()\n",
    "    \n",
    "    df['TS'] = df['Title'] + ' ' + df['Snippet']\n",
    "    \n",
    "    df = df[['TS', 'Category']]\n",
    "    \n",
    "    return df"
   ]
  },
  {
   "cell_type": "code",
   "execution_count": 8,
   "id": "8adac425",
   "metadata": {},
   "outputs": [],
   "source": [
    "def Lemonize(data):\n",
    "    lemmatizer = WordNetLemmatizer()\n",
    "    tokenize = CountVectorizer().build_tokenizer()\n",
    "    sentences = []\n",
    "    \n",
    "    for d in data:\n",
    "        sentence = ''\n",
    "        for word in tokenize(d):\n",
    "            lemWord = lemmatizer.lemmatize(word)\n",
    "            sentence = sentence + ' ' + lemWord\n",
    "        \n",
    "        sentence = sentence.lstrip()\n",
    "        sentences.append(sentence)\n",
    "        \n",
    "    return sentences"
   ]
  },
  {
   "cell_type": "code",
   "execution_count": 9,
   "id": "c1aefb04",
   "metadata": {},
   "outputs": [],
   "source": [
    "def Stemonize(data):\n",
    "    stemmer = PorterStemmer()\n",
    "    tokenize = CountVectorizer().build_tokenizer()\n",
    "    sentences = []\n",
    "    \n",
    "    for d in data:\n",
    "        sentence = ''\n",
    "        for word in tokenize(d):\n",
    "            stemWord = stemmer.stem(word)\n",
    "            sentence = sentence + ' ' + stemWord\n",
    "        \n",
    "        sentence = sentence.lstrip()\n",
    "        sentences.append(sentence)\n",
    "        \n",
    "    return sentences"
   ]
  },
  {
   "cell_type": "code",
   "execution_count": 10,
   "id": "18b02ce9",
   "metadata": {},
   "outputs": [],
   "source": [
    "def preProcess(categoriesList, trainTestSplit=0.2, init_df=filtered_df):\n",
    "    df = init_df.copy()\n",
    "    \n",
    "    df = df.loc[df['Category'].isin(categoriesList)]\n",
    "    \n",
    "    df = mergeTitleSnippet(categoriesList, df)\n",
    "    \n",
    "    X_data = df['TS']\n",
    "    y_data = df['Category']\n",
    "    \n",
    "    X_data = list(X_data)\n",
    "    y_data = list(y_data)\n",
    "    \n",
    "    X_data = Lemonize(X_data)\n",
    "    X_data = Stemonize(X_data)\n",
    "    \n",
    "    X_train, X_test, y_train, y_test = train_test_split(X_data, y_data, test_size=trainTestSplit)\n",
    "    \n",
    "    return X_train, X_test, y_train, y_test, categoriesList"
   ]
  },
  {
   "cell_type": "markdown",
   "id": "0e9e217b",
   "metadata": {},
   "source": [
    "Now it is possible to collect the necessary binary data for our binary classification problem."
   ]
  },
  {
   "cell_type": "code",
   "execution_count": 11,
   "id": "b46aecf0",
   "metadata": {},
   "outputs": [],
   "source": [
    "b1_X_train, b1_X_test, b1_y_train, b1_y_test, b1Categories = preProcess(['Sport', 'Film'])\n",
    "b2_X_train, b2_X_test, b2_y_train, b2_y_test, b2Categories = preProcess(['Sport', 'Music'])\n",
    "b3_X_train, b3_X_test, b3_y_train, b3_y_test, b3Categories = preProcess(['Film', 'Music'])"
   ]
  },
  {
   "cell_type": "markdown",
   "id": "5fcc6344",
   "metadata": {},
   "source": [
    "Upon completion of the preprocessing and collection of our binary data sets, we must consider which machine learning algorithms are most suitable for the purposes of this assignment. A number of models will be evaluated in this classification problem to get a full illustration of the workings of machine learning. The algorithms being utilised are as follows:\n",
    "<br><br>\n",
    "* <b>Random Forrests</b> will be used to classify between 'Sport' and 'Film'\n",
    "* <b>K-Nearest Neighbours</b> will be used to classify between 'Sport' and 'Music'\n",
    "* <b>Naive Bayes</b> will be used to classify between 'Film' and 'Music'"
   ]
  },
  {
   "cell_type": "markdown",
   "id": "cb23fd2d",
   "metadata": {},
   "source": [
    "Once our machine learning agents have finished training, it is important to evaluate them. The following function will be used to do just this."
   ]
  },
  {
   "cell_type": "code",
   "execution_count": 12,
   "id": "796894a6",
   "metadata": {},
   "outputs": [],
   "source": [
    "def evaluateModel(model, true_labels, predicted_labels, categories):\n",
    "    print(f'Evaluation of the {model} model\\n')\n",
    "    print('Classification Report:\\n')\n",
    "    print(classification_report(true_labels, predicted_labels))\n",
    "    print('\\n')\n",
    "    print(f'Confusion Matrix: {model}\\n')\n",
    "    cm = confusion_matrix(true_labels, predicted_labels)\n",
    "    cmd = ConfusionMatrixDisplay(cm, display_labels=categories)\n",
    "    cmd.plot()"
   ]
  },
  {
   "cell_type": "markdown",
   "id": "e77a10b1",
   "metadata": {},
   "source": [
    "### Random Forests"
   ]
  },
  {
   "cell_type": "markdown",
   "id": "b163dd09",
   "metadata": {},
   "source": [
    "Our first machine learning agent is the Random Forests Classifier. Additional preprocessing steps are also required to ensure the optimal performance from our machine learning agent. Firstly, a matrix must be constructed describing all the words found in the data set. Secondly, these words must be weighted based on there importance to the classification problem. By using the 'TfidfVectorizer', it is possible to do this."
   ]
  },
  {
   "cell_type": "code",
   "execution_count": 13,
   "id": "7fa00465",
   "metadata": {},
   "outputs": [],
   "source": [
    "RFpipeline = Pipeline([\n",
    "    ('vec', TfidfVectorizer(stop_words=\"english\", ngram_range=(1,2))),\n",
    "    ('clf', RandomForestClassifier(n_estimators=500))\n",
    "])"
   ]
  },
  {
   "cell_type": "code",
   "execution_count": 14,
   "id": "27f0f4b6",
   "metadata": {},
   "outputs": [
    {
     "data": {
      "text/plain": [
       "Pipeline(steps=[('vec',\n",
       "                 TfidfVectorizer(ngram_range=(1, 2), stop_words='english')),\n",
       "                ('clf', RandomForestClassifier(n_estimators=500))])"
      ]
     },
     "execution_count": 14,
     "metadata": {},
     "output_type": "execute_result"
    }
   ],
   "source": [
    "#Train the model\n",
    "RFpipeline.fit(b1_X_train, b1_y_train)"
   ]
  },
  {
   "cell_type": "code",
   "execution_count": 15,
   "id": "4bf4c6c2",
   "metadata": {},
   "outputs": [],
   "source": [
    "#Predict values\n",
    "b1_predicted = RFpipeline.predict(b1_X_test)"
   ]
  },
  {
   "cell_type": "code",
   "execution_count": 16,
   "id": "4420fa38",
   "metadata": {},
   "outputs": [
    {
     "name": "stdout",
     "output_type": "stream",
     "text": [
      "Evaluation of the RandomForestClassifier(n_estimators=500) model\n",
      "\n",
      "Classification Report:\n",
      "\n",
      "              precision    recall  f1-score   support\n",
      "\n",
      "        Film       0.95      0.97      0.96       343\n",
      "       Sport       0.97      0.95      0.96       375\n",
      "\n",
      "    accuracy                           0.96       718\n",
      "   macro avg       0.96      0.96      0.96       718\n",
      "weighted avg       0.96      0.96      0.96       718\n",
      "\n",
      "\n",
      "\n",
      "Confusion Matrix: RandomForestClassifier(n_estimators=500)\n",
      "\n"
     ]
    },
    {
     "data": {
      "image/png": "[encoded data removed]",
      "text/plain": [
       "<Figure size 432x288 with 2 Axes>"
      ]
     },
     "metadata": {
      "needs_background": "light"
     },
     "output_type": "display_data"
    }
   ],
   "source": [
    "evaluateModel(RFpipeline['clf'], b1_y_test, b1_predicted, b1Categories)"
   ]
  },
  {
   "cell_type": "markdown",
   "id": "08868515",
   "metadata": {},
   "source": [
    "Performance of our Random Forests Classifier is impressive with an accuracy of 95%. Our confusion matrix illustrates how only a scarce number of false negatives and false positives occur when using a Random Forests Classifier to distinguish between the cattegories of 'Sport' and 'Film'. This appears to be an acceptable algorithm with respect to the specific classification task."
   ]
  },
  {
   "cell_type": "markdown",
   "id": "33c795aa",
   "metadata": {},
   "source": [
    "### K-Nearest Neighbours"
   ]
  },
  {
   "cell_type": "markdown",
   "id": "e7d299d8",
   "metadata": {},
   "source": [
    "The second algorithm being considered is the K-Nearest Neighbours algorithm. Once again, the correct preprocessing steps must be carried out before training can begin."
   ]
  },
  {
   "cell_type": "code",
   "execution_count": 17,
   "id": "6e39e8f3",
   "metadata": {},
   "outputs": [],
   "source": [
    "KNNpipeline = Pipeline([\n",
    "    ('vec', TfidfVectorizer(stop_words=\"english\", ngram_range=(1,2))),\n",
    "    ('clf', KNeighborsClassifier(n_neighbors=15))\n",
    "])"
   ]
  },
  {
   "cell_type": "code",
   "execution_count": 18,
   "id": "c5a8f889",
   "metadata": {},
   "outputs": [
    {
     "data": {
      "text/plain": [
       "Pipeline(steps=[('vec',\n",
       "                 TfidfVectorizer(ngram_range=(1, 2), stop_words='english')),\n",
       "                ('clf', KNeighborsClassifier(n_neighbors=15))])"
      ]
     },
     "execution_count": 18,
     "metadata": {},
     "output_type": "execute_result"
    }
   ],
   "source": [
    "#Train the model\n",
    "KNNpipeline.fit(b2_X_train, b2_y_train)"
   ]
  },
  {
   "cell_type": "code",
   "execution_count": 19,
   "id": "6be18fdd",
   "metadata": {},
   "outputs": [],
   "source": [
    "#Predict values\n",
    "b2_predicted = KNNpipeline.predict(b2_X_test)"
   ]
  },
  {
   "cell_type": "code",
   "execution_count": 20,
   "id": "94806ca8",
   "metadata": {},
   "outputs": [
    {
     "name": "stdout",
     "output_type": "stream",
     "text": [
      "Evaluation of the KNeighborsClassifier(n_neighbors=15) model\n",
      "\n",
      "Classification Report:\n",
      "\n",
      "              precision    recall  f1-score   support\n",
      "\n",
      "       Music       0.95      0.94      0.94       357\n",
      "       Sport       0.94      0.95      0.94       367\n",
      "\n",
      "    accuracy                           0.94       724\n",
      "   macro avg       0.94      0.94      0.94       724\n",
      "weighted avg       0.94      0.94      0.94       724\n",
      "\n",
      "\n",
      "\n",
      "Confusion Matrix: KNeighborsClassifier(n_neighbors=15)\n",
      "\n"
     ]
    },
    {
     "data": {
      "image/png": "[encoded data removed]",
      "text/plain": [
       "<Figure size 432x288 with 2 Axes>"
      ]
     },
     "metadata": {
      "needs_background": "light"
     },
     "output_type": "display_data"
    }
   ],
   "source": [
    "evaluateModel(KNNpipeline['clf'], b2_y_test, b2_predicted, b2Categories)"
   ]
  },
  {
   "cell_type": "markdown",
   "id": "19278e63",
   "metadata": {},
   "source": [
    "The performance of our K-Nearest Neighbours algorithm is also impressive reaching an accuracy of 93% however, it appears to perform marginally worse than the Random Forests Classifier. Both algorithms have been trained using different sets of data and so it may not be a fair assumption to suggest that the Random Forests Classifier outperforms the K-Nearest Neighbours algorithm for this particualr implemtation."
   ]
  },
  {
   "cell_type": "markdown",
   "id": "462ee3b3",
   "metadata": {},
   "source": [
    "### Naive Bayes"
   ]
  },
  {
   "cell_type": "markdown",
   "id": "eb2f180f",
   "metadata": {},
   "source": [
    "The final machine learning agent being considered for binary classification is the Naive Bayes algorithm. Once again the appropriate preprocessing measures must be taken."
   ]
  },
  {
   "cell_type": "code",
   "execution_count": 21,
   "id": "b4d08be2",
   "metadata": {},
   "outputs": [],
   "source": [
    "NBpipeline = Pipeline([\n",
    "    ('vec', TfidfVectorizer(stop_words=\"english\", ngram_range=(1,2))),\n",
    "    ('clf', MultinomialNB())\n",
    "])"
   ]
  },
  {
   "cell_type": "code",
   "execution_count": 22,
   "id": "77675d33",
   "metadata": {},
   "outputs": [
    {
     "data": {
      "text/plain": [
       "Pipeline(steps=[('vec',\n",
       "                 TfidfVectorizer(ngram_range=(1, 2), stop_words='english')),\n",
       "                ('clf', MultinomialNB())])"
      ]
     },
     "execution_count": 22,
     "metadata": {},
     "output_type": "execute_result"
    }
   ],
   "source": [
    "#Train the model\n",
    "NBpipeline.fit(b3_X_train, b3_y_train)"
   ]
  },
  {
   "cell_type": "code",
   "execution_count": 23,
   "id": "90691ac0",
   "metadata": {},
   "outputs": [],
   "source": [
    "#Predict values\n",
    "b3_predicted = NBpipeline.predict(b3_X_test)"
   ]
  },
  {
   "cell_type": "code",
   "execution_count": 24,
   "id": "ab61bd6e",
   "metadata": {},
   "outputs": [
    {
     "name": "stdout",
     "output_type": "stream",
     "text": [
      "Evaluation of the MultinomialNB() model\n",
      "\n",
      "Classification Report:\n",
      "\n",
      "              precision    recall  f1-score   support\n",
      "\n",
      "        Film       0.93      0.96      0.94       369\n",
      "       Music       0.95      0.92      0.94       345\n",
      "\n",
      "    accuracy                           0.94       714\n",
      "   macro avg       0.94      0.94      0.94       714\n",
      "weighted avg       0.94      0.94      0.94       714\n",
      "\n",
      "\n",
      "\n",
      "Confusion Matrix: MultinomialNB()\n",
      "\n"
     ]
    },
    {
     "data": {
      "image/png": "[encoded data removed]",
      "text/plain": [
       "<Figure size 432x288 with 2 Axes>"
      ]
     },
     "metadata": {
      "needs_background": "light"
     },
     "output_type": "display_data"
    }
   ],
   "source": [
    "evaluateModel(NBpipeline['clf'], b3_y_test, b3_predicted, b3Categories)"
   ]
  },
  {
   "cell_type": "markdown",
   "id": "dd560d20",
   "metadata": {},
   "source": [
    "At first glance it would appear that while this Naive Bayes approach is superior to the K-Nearest Neighbours algorithm, it is marginally worse than the Random Forests Classifier. However, despite having a higher rate of false negatives and false postives, one key point must be made regarding this Naive Bayes algorithm. It would be expected to be more difficult to distinguish between the categories of 'Music' and 'Film' when compared to the categories of 'Sport' and 'Film'. Therefore, it may be premature to suggest that the Random Forest Classifier is superior to a Naive Bayes approach for this particular scenario."
   ]
  },
  {
   "cell_type": "markdown",
   "id": "0d205bee",
   "metadata": {},
   "source": [
    "## Task 3: Multi-Class Text Classification"
   ]
  },
  {
   "cell_type": "markdown",
   "id": "8cd6b2f4",
   "metadata": {},
   "source": [
    "Similarily to what was done when considering binary classification, the data must be preprocessed to ensure it can be utilised with a machine learning agent. The functions used above can once again be used here for this preprocessing step."
   ]
  },
  {
   "cell_type": "code",
   "execution_count": 25,
   "id": "f6a19f01",
   "metadata": {},
   "outputs": [],
   "source": [
    "mc_X_train, mc_X_test, mc_y_train, mc_y_test, mcCategories = preProcess(['Sport', 'Film', 'Music'])"
   ]
  },
  {
   "cell_type": "markdown",
   "id": "0284b2fc",
   "metadata": {},
   "source": [
    "### Random Forests"
   ]
  },
  {
   "cell_type": "markdown",
   "id": "26138ac0",
   "metadata": {},
   "source": [
    "Our Random Forests Classifier appeared to perform the best when considering binary classification and so it seems like a suitable candidate to use when considering multi-class text classification. Therefore, by making use of the same pipeline used before, the Random Forests Classifier can be used for multi-class xlassification."
   ]
  },
  {
   "cell_type": "code",
   "execution_count": 26,
   "id": "a4c44b69",
   "metadata": {},
   "outputs": [
    {
     "data": {
      "text/plain": [
       "Pipeline(steps=[('vec',\n",
       "                 TfidfVectorizer(ngram_range=(1, 2), stop_words='english')),\n",
       "                ('clf', RandomForestClassifier(n_estimators=500))])"
      ]
     },
     "execution_count": 26,
     "metadata": {},
     "output_type": "execute_result"
    }
   ],
   "source": [
    "#Train the model\n",
    "RFpipeline.fit(mc_X_train, mc_y_train)"
   ]
  },
  {
   "cell_type": "code",
   "execution_count": 27,
   "id": "54bd02ec",
   "metadata": {},
   "outputs": [],
   "source": [
    "#Predict values\n",
    "mc_predicted = RFpipeline.predict(mc_X_test)"
   ]
  },
  {
   "cell_type": "code",
   "execution_count": 28,
   "id": "4ea4e5f0",
   "metadata": {},
   "outputs": [
    {
     "name": "stdout",
     "output_type": "stream",
     "text": [
      "Evaluation of the RandomForestClassifier(n_estimators=500) model\n",
      "\n",
      "Classification Report:\n",
      "\n",
      "              precision    recall  f1-score   support\n",
      "\n",
      "        Film       0.92      0.90      0.91       335\n",
      "       Music       0.90      0.91      0.91       352\n",
      "       Sport       0.95      0.96      0.95       391\n",
      "\n",
      "    accuracy                           0.92      1078\n",
      "   macro avg       0.92      0.92      0.92      1078\n",
      "weighted avg       0.92      0.92      0.92      1078\n",
      "\n",
      "\n",
      "\n",
      "Confusion Matrix: RandomForestClassifier(n_estimators=500)\n",
      "\n"
     ]
    },
    {
     "data": {
      "image/png": "[encoded data removed]",
      "text/plain": [
       "<Figure size 432x288 with 2 Axes>"
      ]
     },
     "metadata": {
      "needs_background": "light"
     },
     "output_type": "display_data"
    }
   ],
   "source": [
    "evaluateModel(RFpipeline['clf'], mc_y_test, mc_predicted, mcCategories)"
   ]
  },
  {
   "cell_type": "markdown",
   "id": "0382ce43",
   "metadata": {},
   "source": [
    "It is clear that while an adequate accuracy has been reached with the Random Forests Classifier, it struggles to perform as well as it did in the binary classification problem. This is to be expected. The more labels a machine learning agent is required to distinguish between, the more difficult the classification task becomes."
   ]
  },
  {
   "cell_type": "markdown",
   "id": "76c59213",
   "metadata": {},
   "source": [
    "### Naive Bayes"
   ]
  },
  {
   "cell_type": "markdown",
   "id": "f21c71c8",
   "metadata": {},
   "source": [
    "The Naive Bayes algorithm also performed well in the binary classification problem. Therefore, it would be of interest to constrast how a Naive Bayes machine learning agent compares to a Random Forests Classifier. By recycling the smae pipeline used in the binary classification problem, a Naive Bayes approach was used."
   ]
  },
  {
   "cell_type": "code",
   "execution_count": 29,
   "id": "c1a086b7",
   "metadata": {},
   "outputs": [
    {
     "data": {
      "text/plain": [
       "Pipeline(steps=[('vec',\n",
       "                 TfidfVectorizer(ngram_range=(1, 2), stop_words='english')),\n",
       "                ('clf', MultinomialNB())])"
      ]
     },
     "execution_count": 29,
     "metadata": {},
     "output_type": "execute_result"
    }
   ],
   "source": [
    "#Train the model\n",
    "NBpipeline.fit(mc_X_train, mc_y_train)"
   ]
  },
  {
   "cell_type": "code",
   "execution_count": 30,
   "id": "bf89e87d",
   "metadata": {},
   "outputs": [],
   "source": [
    "#Predict values\n",
    "mc_predicted = NBpipeline.predict(mc_X_test)"
   ]
  },
  {
   "cell_type": "code",
   "execution_count": 31,
   "id": "7f71ebda",
   "metadata": {},
   "outputs": [
    {
     "name": "stdout",
     "output_type": "stream",
     "text": [
      "Evaluation of the MultinomialNB() model\n",
      "\n",
      "Classification Report:\n",
      "\n",
      "              precision    recall  f1-score   support\n",
      "\n",
      "        Film       0.91      0.91      0.91       335\n",
      "       Music       0.92      0.92      0.92       352\n",
      "       Sport       0.97      0.97      0.97       391\n",
      "\n",
      "    accuracy                           0.94      1078\n",
      "   macro avg       0.94      0.94      0.94      1078\n",
      "weighted avg       0.94      0.94      0.94      1078\n",
      "\n",
      "\n",
      "\n",
      "Confusion Matrix: MultinomialNB()\n",
      "\n"
     ]
    },
    {
     "data": {
      "image/png": "[encoded data removed]",
      "text/plain": [
       "<Figure size 432x288 with 2 Axes>"
      ]
     },
     "metadata": {
      "needs_background": "light"
     },
     "output_type": "display_data"
    }
   ],
   "source": [
    "evaluateModel(NBpipeline['clf'], mc_y_test, mc_predicted, mcCategories)"
   ]
  },
  {
   "cell_type": "markdown",
   "id": "5d858040",
   "metadata": {},
   "source": [
    "The Naive Bayes approach clearly performs better than the Random Forests Classifier when considering multi-class classification. As the same data was used when comparing both of these algorithms, it is reasonable to suggest that the Naive Bayes algorithm may be superior for this particular implementation."
   ]
  }
 ],
 "metadata": {
  "kernelspec": {
   "display_name": "Python 3 (ipykernel)",
   "language": "python",
   "name": "python3"
  },
  "language_info": {
   "codemirror_mode": {
    "name": "ipython",
    "version": 3
   },
   "file_extension": ".py",
   "mimetype": "text/x-python",
   "name": "python",
   "nbconvert_exporter": "python",
   "pygments_lexer": "ipython3",
   "version": "3.9.6"
  }
 },
 "nbformat": 4,
 "nbformat_minor": 5
}
